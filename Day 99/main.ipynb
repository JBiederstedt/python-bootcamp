{
 "cells": [
  {
   "cell_type": "markdown",
   "id": "015c7e98",
   "metadata": {},
   "source": [
    "# Space Race Missions Analysis\n",
    "This notebook explores space mission data since 1957, covering data exploration, cleaning, and various visualizations including choropleths and sunbursts."
   ]
  },
  {
   "cell_type": "markdown",
   "id": "79ad836d",
   "metadata": {},
   "source": [
    "### Install Packages\n",
    "Ensure required packages are installed."
   ]
  },
  {
   "cell_type": "code",
   "execution_count": null,
   "id": "b87e35ed",
   "metadata": {},
   "outputs": [],
   "source": [
    "!pip install iso3166 plotly --quiet\n"
   ]
  },
  {
   "cell_type": "markdown",
   "id": "af7f9692",
   "metadata": {},
   "source": [
    "### Imports and Settings"
   ]
  },
  {
   "cell_type": "code",
   "execution_count": null,
   "id": "d5a0e011",
   "metadata": {},
   "outputs": [],
   "source": [
    "import pandas as pd\n",
    "import matplotlib.pyplot as plt\n",
    "import plotly.express as px\n",
    "from iso3166 import countries\n",
    "\n",
    "%matplotlib inline\n"
   ]
  },
  {
   "cell_type": "markdown",
   "id": "6b3fa1be",
   "metadata": {},
   "source": [
    "## Load Dataset"
   ]
  },
  {
   "cell_type": "code",
   "execution_count": null,
   "id": "c481bbef",
   "metadata": {},
   "outputs": [],
   "source": [
    "df = pd.read_csv('mission_launches.csv')\n",
    "df['launch_date'] = pd.to_datetime(df['launch_date'], errors='coerce')\n",
    "df.head()\n"
   ]
  },
  {
   "cell_type": "markdown",
   "id": "172d68cc",
   "metadata": {},
   "source": [
    "## Preliminary Data Exploration"
   ]
  },
  {
   "cell_type": "code",
   "execution_count": null,
   "id": "aed81a84",
   "metadata": {},
   "outputs": [],
   "source": [
    "# Basic info\n",
    "df.info()\n"
   ]
  },
  {
   "cell_type": "code",
   "execution_count": null,
   "id": "013bbb2b",
   "metadata": {},
   "outputs": [],
   "source": [
    "# Summary statistics\n",
    "df.describe(include='all')\n"
   ]
  },
  {
   "cell_type": "code",
   "execution_count": null,
   "id": "201347fd",
   "metadata": {},
   "outputs": [],
   "source": [
    "# Missing values per column\n",
    "df.isnull().sum()\n"
   ]
  },
  {
   "cell_type": "markdown",
   "id": "5ba84fb2",
   "metadata": {},
   "source": [
    "## Data Cleaning"
   ]
  },
  {
   "cell_type": "code",
   "execution_count": null,
   "id": "237a68b5",
   "metadata": {},
   "outputs": [],
   "source": [
    "# Drop duplicates\n",
    "df = df.drop_duplicates()\n",
    "\n",
    "# Clean cost_usd\n",
    "df['cost_usd'] = df['cost_usd'].replace({'\\$':'','[,]':''}, regex=True)\n",
    "df['cost_usd'] = pd.to_numeric(df['cost_usd'], errors='coerce')\n"
   ]
  },
  {
   "cell_type": "code",
   "execution_count": null,
   "id": "5b7e6ac6",
   "metadata": {},
   "outputs": [],
   "source": [
    "# Extract year and month\n",
    "df['year'] = df['launch_date'].dt.year\n",
    "df['month'] = df['launch_date'].dt.month\n"
   ]
  },
  {
   "cell_type": "markdown",
   "id": "f472592c",
   "metadata": {},
   "source": [
    "## Descriptive Statistics"
   ]
  },
  {
   "cell_type": "code",
   "execution_count": null,
   "id": "4b91a27e",
   "metadata": {},
   "outputs": [],
   "source": [
    "# Missions per country\n",
    "country_counts = df['country'].value_counts().reset_index()\n",
    "country_counts.columns = ['country', 'missions']\n",
    "country_counts.head()\n"
   ]
  },
  {
   "cell_type": "markdown",
   "id": "adfd67a4",
   "metadata": {},
   "source": [
    "## Choropleth Map of Launches by Country"
   ]
  },
  {
   "cell_type": "code",
   "execution_count": null,
   "id": "66dc72fd",
   "metadata": {},
   "outputs": [],
   "source": [
    "# Map country codes\n",
    "country_counts['iso_alpha'] = country_counts['country'].apply(lambda x: countries.get(x).alpha3 if x in countries else None)\n",
    "fig = px.choropleth(country_counts, locations='iso_alpha', color='missions',\n",
    "                    hover_name='country', title='Launches by Country')\n",
    "fig.show()\n"
   ]
  },
  {
   "cell_type": "markdown",
   "id": "e4aa707e",
   "metadata": {},
   "source": [
    "## Missions per Year"
   ]
  },
  {
   "cell_type": "code",
   "execution_count": null,
   "id": "d3558c48",
   "metadata": {},
   "outputs": [],
   "source": [
    "missions_year = df.groupby('year').size().reset_index(name='count')\n",
    "plt.figure(figsize=(10,5))\n",
    "plt.plot(missions_year['year'], missions_year['count'])\n",
    "plt.title('Number of Missions per Year')\n",
    "plt.xlabel('Year'); plt.ylabel('Count'); plt.grid(True)\n"
   ]
  },
  {
   "cell_type": "markdown",
   "id": "0b3d694b",
   "metadata": {},
   "source": [
    "## Average Mission Cost Over Time"
   ]
  },
  {
   "cell_type": "code",
   "execution_count": null,
   "id": "bc99c8b9",
   "metadata": {},
   "outputs": [],
   "source": [
    "avg_cost = df.groupby('year')['cost_usd'].mean().reset_index()\n",
    "plt.figure(figsize=(10,5))\n",
    "plt.plot(avg_cost['year'], avg_cost['cost_usd'])\n",
    "plt.title('Average Mission Cost Over Time')\n",
    "plt.xlabel('Year'); plt.ylabel('Avg Cost (USD)'); plt.grid(True)\n"
   ]
  },
  {
   "cell_type": "markdown",
   "id": "177966bc",
   "metadata": {},
   "source": [
    "## Monthly Launch Distribution"
   ]
  },
  {
   "cell_type": "code",
   "execution_count": null,
   "id": "399ee0d2",
   "metadata": {},
   "outputs": [],
   "source": [
    "monthly = df['month'].value_counts().sort_index()\n",
    "plt.figure(figsize=(10,5))\n",
    "plt.bar(monthly.index, monthly.values)\n",
    "plt.title('Launches by Month')\n",
    "plt.xlabel('Month'); plt.ylabel('Count')\n"
   ]
  },
  {
   "cell_type": "markdown",
   "id": "92fd7c96",
   "metadata": {},
   "source": [
    "## Mission Safety Over Time"
   ]
  },
  {
   "cell_type": "code",
   "execution_count": null,
   "id": "8f4c0c2f",
   "metadata": {},
   "outputs": [],
   "source": [
    "df['success_flag'] = df['status'] == 'Success'\n",
    "safety = df.groupby('year')['success_flag'].mean().reset_index()\n",
    "plt.figure(figsize=(10,5))\n",
    "plt.plot(safety['year'], safety['success_flag'])\n",
    "plt.title('Mission Success Rate Over Time')\n",
    "plt.xlabel('Year'); plt.ylabel('Success Rate'); plt.grid(True)\n"
   ]
  },
  {
   "cell_type": "markdown",
   "id": "bed448a7",
   "metadata": {},
   "source": [
    "## Sunburst Chart of Launching Agencies Over Years"
   ]
  },
  {
   "cell_type": "code",
   "execution_count": null,
   "id": "f9db6529",
   "metadata": {},
   "outputs": [],
   "source": [
    "sun = df.groupby(['year','agency']).size().reset_index(name='count')\n",
    "fig = px.sunburst(sun, path=['year','agency'], values='count', title='Agencies Launch Distribution')\n",
    "fig.show()\n"
   ]
  },
  {
   "cell_type": "markdown",
   "id": "f154f92e",
   "metadata": {},
   "source": [
    "## Conclusion\n",
    "This analysis provided insights into launch trends, costs, seasonality, and safety since the start of the Space Race. Further exploration could include rocket types, payloads, and budget comparisons between countries."
   ]
  }
 ],
 "metadata": {},
 "nbformat": 4,
 "nbformat_minor": 5
}
